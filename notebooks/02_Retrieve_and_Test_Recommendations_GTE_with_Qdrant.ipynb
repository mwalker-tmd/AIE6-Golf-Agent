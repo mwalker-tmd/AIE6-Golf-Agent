{
 "cells": [
  {
   "cell_type": "markdown",
   "id": "f36ee4e7",
   "metadata": {},
   "source": [
    " # 📌 Notebook 2: Retrieve and Test Recommendations (GTE-small)\n",
    "This notebook allows you to enter a shot scenario and retrieve semantically similar historical shots using Qdrant with GTE-small embeddings.\n",
    "   "
   ]
  },
  {
   "cell_type": "markdown",
   "id": "aabcef6d",
   "metadata": {},
   "source": [
    "## Initial Setup"
   ]
  },
  {
   "cell_type": "code",
   "execution_count": 1,
   "id": "b3a051bc",
   "metadata": {},
   "outputs": [
    {
     "name": "stderr",
     "output_type": "stream",
     "text": [
      "/Users/mwalker/development/TAMARKDesigns/AI-Maker-Space/cohort-6/projects/session-05/AIE6-Golf-Agent/.venv/lib/python3.12/site-packages/tqdm/auto.py:21: TqdmWarning: IProgress not found. Please update jupyter and ipywidgets. See https://ipywidgets.readthedocs.io/en/stable/user_install.html\n",
      "  from .autonotebook import tqdm as notebook_tqdm\n"
     ]
    }
   ],
   "source": [
    "# Step 1: Initial Setup:\n",
    "\n",
    "# Load sentence-transformers and GTE-small model\n",
    "from sentence_transformers import SentenceTransformer\n",
    "model = SentenceTransformer('thenlper/gte-small')"
   ]
  },
  {
   "cell_type": "code",
   "execution_count": 2,
   "id": "83fa3f1d",
   "metadata": {},
   "outputs": [],
   "source": [
    "# Embed the query using GTE-small\n",
    "\n",
    "def get_embedding(text):\n",
    "    return model.encode(text)\n",
    "\n",
    "# Define a test query\n",
    "query = \"What club should I use from 145 yards if I want to avoid a slice?\"\n",
    "\n",
    "query_vector = get_embedding(query)"
   ]
  },
  {
   "cell_type": "code",
   "execution_count": 3,
   "id": "bfa9fd99",
   "metadata": {},
   "outputs": [],
   "source": [
    "# Collect the Qdrant API key\n",
    "from getpass import getpass\n",
    "\n",
    "qdrant_api_key = getpass('🔑 Enter your Qdrant API Key: ')"
   ]
  },
  {
   "cell_type": "code",
   "execution_count": 14,
   "id": "42a05a2e",
   "metadata": {},
   "outputs": [
    {
     "name": "stdout",
     "output_type": "stream",
     "text": [
      "Score: 0.8943 | Text: Approach Wedge | Carry: 99.81 yds | Ball Speed: 74.13 mph | Classification: Slice\n",
      "Score: 0.8941 | Text: Approach Wedge | Carry: 99.57 yds | Ball Speed: 74.27 mph | Classification: Slice\n",
      "Score: 0.8869 | Text: Approach Wedge | Carry: 52.12 yds | Ball Speed: 52.12 mph | Classification: Push Slice\n",
      "Score: 0.8868 | Text: Lob Wedge | Carry: 67.72 yds | Ball Speed: 59.75 mph | Classification: Slice\n",
      "Score: 0.8867 | Text: Lob Wedge | Carry: 41.49 yds | Ball Speed: 45.45 mph | Classification: Slice\n"
     ]
    }
   ],
   "source": [
    "# Retrieve top 5 most similar entries\n",
    "from qdrant_client import QdrantClient\n",
    "\n",
    "client = QdrantClient(\n",
    "    url=\"https://6f592f43-f667-4234-ad3a-4f15ed5882ef.us-west-2-0.aws.cloud.qdrant.io:6333\",\n",
    "    api_key=qdrant_api_key\n",
    ")\n",
    "\n",
    "collection_name = \"golf_shot_vectors\"\n",
    "\n",
    "search_result = client.query_points(\n",
    "    collection_name=collection_name,\n",
    "    query=query_vector,  # Pass the vector directly\n",
    "    limit=5,\n",
    "    with_payload=True\n",
    "    )\n",
    "    \n",
    "# Access the points from the QueryResponse\n",
    "for point in search_result.points:\n",
    "    print(f\"Score: {point.score:.4f} | Text: {point.payload['text']}\")"
   ]
  }
 ],
 "metadata": {
  "kernelspec": {
   "display_name": ".venv",
   "language": "python",
   "name": "python3"
  },
  "language_info": {
   "codemirror_mode": {
    "name": "ipython",
    "version": 3
   },
   "file_extension": ".py",
   "mimetype": "text/x-python",
   "name": "python",
   "nbconvert_exporter": "python",
   "pygments_lexer": "ipython3",
   "version": "3.12.9"
  }
 },
 "nbformat": 4,
 "nbformat_minor": 5
}
