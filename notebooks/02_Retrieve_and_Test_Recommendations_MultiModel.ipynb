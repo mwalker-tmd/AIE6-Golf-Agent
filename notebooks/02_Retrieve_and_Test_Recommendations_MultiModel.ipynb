{
 "cells": [
  {
   "cell_type": "markdown",
   "id": "f36ee4e7",
   "metadata": {},
   "source": [
    " # 📌 Notebook 2: Retrieve and Test Recommendations (GTE-small)\n",
    "This notebook allows you to enter a shot scenario and retrieve semantically similar historical shots using Qdrant with GTE-small embeddings.\n",
    "   "
   ]
  },
  {
   "cell_type": "markdown",
   "id": "aabcef6d",
   "metadata": {},
   "source": [
    "## Initial Setup"
   ]
  },
  {
   "cell_type": "code",
   "execution_count": 9,
   "id": "714ff3a7",
   "metadata": {},
   "outputs": [],
   "source": [
    "# Select embedding model\n",
    "# Options: 'e5-base-v2', 'bge-base-en-v1.5'\n",
    "embedding_model_choice = 'bge-base-en-v1.5'\n",
    "descriptive_collection_name = f\"golf_shot_vectors_{embedding_model_choice.replace('-', '_')}\"\n",
    "\n",
    "from sentence_transformers import SentenceTransformer\n",
    "\n",
    "def load_embedding_model(name: str):\n",
    "    if name == 'e5-base-v2':\n",
    "        return SentenceTransformer('intfloat/e5-base-v2')\n",
    "    elif name == 'bge-base-en-v1.5':\n",
    "        return SentenceTransformer('BAAI/bge-base-en-v1.5')\n",
    "    else:\n",
    "        raise ValueError(f'Unsupported model: {name}')\n",
    "\n",
    "model = load_embedding_model(embedding_model_choice)"
   ]
  },
  {
   "cell_type": "code",
   "execution_count": 13,
   "id": "83fa3f1d",
   "metadata": {},
   "outputs": [],
   "source": [
    "# Embed the query using the selected embedding model\n",
    "\n",
    "def get_embedding(text):\n",
    "    if embedding_model_choice.startswith(\"e5\"):\n",
    "        return model.encode(f\"query: {text}\")\n",
    "    else:\n",
    "        return model.encode(text)\n",
    "\n",
    "# Define a test query\n",
    "# query = \"What club should I use from 145 yards if I want to avoid a slice?\"\n",
    "# query = \"What club should I use from 145 yards?\"\n",
    "# query = \"Find shots from 140 to 150 yards where the shape was a slice. Return the club used and distance.\"\n",
    "\n",
    "# preprocessed-style query:\n",
    "query = \"The golfer is planning a 145-yard shot and wants to avoid a slice.\"\n",
    "\n",
    "query_vector = get_embedding(query)\n"
   ]
  },
  {
   "cell_type": "code",
   "execution_count": 11,
   "id": "bfa9fd99",
   "metadata": {},
   "outputs": [],
   "source": [
    "# Collect the Qdrant API key\n",
    "from getpass import getpass\n",
    "\n",
    "qdrant_api_key = getpass('🔑 Enter your Qdrant API Key: ')"
   ]
  },
  {
   "cell_type": "code",
   "execution_count": 14,
   "id": "42a05a2e",
   "metadata": {},
   "outputs": [
    {
     "name": "stdout",
     "output_type": "stream",
     "text": [
      "Score: 0.7182 | Payload: {'text': 'On 2024-09-26 15:21:15, the golfer hit a shot 145.06 yards with a carry of 127.38 yards using a 9 Iron (** Top Golf - Short Irons - 9I). The shot was classified as Slice. The known contributing factors to this result were: Ball speed: 85.43 mph. Club speed: 74.94 mph. Spin rate: 2222 rpm. Attack angle: -2.65 degrees. Descent angle: 40.41 degrees.'}\n",
      "Score: 0.7137 | Payload: {'text': 'On 2024-09-05 13:39:59, the golfer hit a shot 114.56 yards with a carry of 99.57 yards using a Approach Wedge (48 Degree). The shot was classified as Slice. The known contributing factors to this result were: Ball speed: 74.27 mph. Club speed: 77.26 mph. Spin rate: 1154 rpm. Attack angle: 4.26 degrees. Descent angle: 41.06 degrees.'}\n",
      "Score: 0.7117 | Payload: {'text': 'On 2024-09-05 13:30:59, the golfer hit a shot 94.94 yards with a carry of 83.81 yards using a Sand Wedge (56 Degree). The shot was classified as Slice. The known contributing factors to this result were: Ball speed: 67.24 mph. Club speed: 70.04 mph. Spin rate: 1154 rpm. Attack angle: 5.08 degrees. Descent angle: 49.27 degrees.'}\n",
      "Score: 0.7115 | Payload: {'text': 'On 2024-09-05 13:41:01, the golfer hit a shot 113.55 yards with a carry of 99.81 yards using a Approach Wedge (48 Degree). The shot was classified as Slice. The known contributing factors to this result were: Ball speed: 74.13 mph. Club speed: 78.09 mph. Spin rate: 1154 rpm. Attack angle: -2.04 degrees. Descent angle: 43.24 degrees.'}\n",
      "Score: 0.7105 | Payload: {'text': 'On 2024-10-21 13:53:24, the golfer hit a shot 180.66 yards with a carry of 142.22 yards using a Driver (TopGolf - Driver (-1, N) ***). The shot was classified as Slice. The known contributing factors to this result were: Ball speed: 117.13 mph. Club speed: 88.38 mph. Spin rate: 1787 rpm. Attack angle: -2.14 degrees. Descent angle: 15.55 degrees.'}\n",
      "Score: 0.7081 | Payload: {'text': 'On 2024-09-05 13:23:04, the golfer hit a shot 82.4 yards with a carry of 69.55 yards using a Lob Wedge (60 Degree). The shot was classified as Slice. The known contributing factors to this result were: Ball speed: 60.02 mph. Club speed: 65.83 mph. Spin rate: 1046 rpm. Attack angle: -5.55 degrees. Descent angle: 44.21 degrees.'}\n",
      "Score: 0.7074 | Payload: {'text': 'On 2024-09-05 13:24:36, the golfer hit a shot 81.86 yards with a carry of 72.46 yards using a Lob Wedge (60 Degree). The shot was classified as Slice. The known contributing factors to this result were: Ball speed: 62.16 mph. Club speed: 69.84 mph. Spin rate: 1154 rpm. Attack angle: -3.1 degrees. Descent angle: 50.97 degrees.'}\n",
      "Score: 0.7069 | Payload: {'text': 'On 2025-01-07 15:43:16, the golfer hit a shot 205.91 yards with a carry of 173.55 yards using a Driver (Top Golf - Driver (+1, N)). The shot was classified as Push Slice. The known contributing factors to this result were: Ball speed: 120.55 mph. Club speed: 87.62 mph. Spin rate: 3582 rpm. Attack angle: -0.15 degrees. Descent angle: 19.88 degrees.'}\n",
      "Score: 0.7063 | Payload: {'text': 'On 2024-12-16 14:41:03, the golfer hit a shot 156.46 yards with a carry of 134.68 yards using a 9 Iron (*TopGolf - Short Irons - 9I*). The shot was classified as Slice. The known contributing factors to this result were: Ball speed: 91.74 mph. Club speed: 86.32 mph. Spin rate: 2846 rpm. Attack angle: 7.7 degrees. Descent angle: 30.87 degrees.'}\n",
      "Score: 0.7042 | Payload: {'text': 'On 2025-01-07 16:01:33, the golfer hit a shot 203.9 yards with a carry of 168.8 yards using a Driver (Top Golf - Driver (+1, N)). The shot was classified as Push Slice. The known contributing factors to this result were: Ball speed: 121.22 mph. Club speed: 86.23 mph. Spin rate: 2865 rpm. Attack angle: 1.11 degrees. Descent angle: 18.37 degrees.'}\n",
      "Score: 0.7031 | Payload: {'text': 'On 2024-09-05 13:28:02, the golfer hit a shot 94.64 yards with a carry of 81.23 yards using a Sand Wedge (56 Degree). The shot was classified as Push Slice. The known contributing factors to this result were: Ball speed: 65.59 mph. Club speed: 66.66 mph. Spin rate: 1047 rpm. Attack angle: -6.85 degrees. Descent angle: 43.75 degrees.'}\n",
      "Score: 0.7026 | Payload: {'text': 'On 2024-09-05 13:26:11, the golfer hit a shot 76.31 yards with a carry of 67.72 yards using a Lob Wedge (60 Degree). The shot was classified as Slice. The known contributing factors to this result were: Ball speed: 59.75 mph. Club speed: 62.43 mph. Spin rate: 1154 rpm. Attack angle: -9.07 degrees. Descent angle: 50.7 degrees.'}\n",
      "Score: 0.7023 | Payload: {'text': 'On 2024-09-05 13:35:09, the golfer hit a shot 115.67 yards with a carry of 101.94 yards using a Gap Wedge (52 Degree). The shot was classified as Pull Slice. The known contributing factors to this result were: Ball speed: 75.09 mph. Club speed: 73.13 mph. Spin rate: 1154 rpm. Attack angle: -8.64 degrees. Descent angle: 43.14 degrees.'}\n",
      "Score: 0.7015 | Payload: {'text': 'On 2024-10-21 12:18:58, the golfer hit a shot 101.3 yards with a carry of 86.36 yards using a Sand Wedge (TopGolf - Wedges - 56). The shot was classified as Slice. The known contributing factors to this result were: Ball speed: 68.23 mph. Club speed: 72.86 mph. Spin rate: 1046 rpm. Attack angle: -6.23 degrees. Descent angle: 41.91 degrees.'}\n",
      "Score: 0.7013 | Payload: {'text': 'On 2024-09-17 09:54:52, the golfer hit a shot 80.05 yards with a carry of 69.14 yards using a Lob Wedge (Top Golf - Wedges - 60). The shot was classified as Slice. The known contributing factors to this result were: Ball speed: 59.84 mph. Club speed: 62.05 mph. Spin rate: 1154 rpm. Attack angle: -2.36 degrees. Descent angle: 47.66 degrees.'}\n",
      "Score: 0.7010 | Payload: {'text': 'On 2025-01-07 15:51:19, the golfer hit a shot 221.88 yards with a carry of 192.92 yards using a Driver (Top Golf - Driver (+1, N)). The shot was classified as Push Slice. The known contributing factors to this result were: Ball speed: 125.11 mph. Club speed: 88.43 mph. Spin rate: 3581 rpm. Attack angle: 4.57 degrees. Descent angle: 23.34 degrees.'}\n",
      "Score: 0.7009 | Payload: {'text': 'On 2025-02-04 14:07:30, the golfer hit a shot 59.15 yards with a carry of 52.12 yards using a Approach Wedge (TopGolf - 48). The shot was classified as Push Slice. The known contributing factors to this result were: Ball speed: 52.12 mph. Club speed: 67.67 mph. Spin rate: 1038 rpm. Attack angle: 3.45 degrees. Descent angle: 52.91 degrees.'}\n",
      "Score: 0.6999 | Payload: {'text': 'On 2024-12-27 14:30:22, the golfer hit a shot 95.3 yards with a carry of 84.13 yards using a Sand Wedge (TopGolf - Wedges - 56). The shot was classified as Slice. The known contributing factors to this result were: Ball speed: 67.24 mph. Club speed: 63.04 mph. Spin rate: 1051 rpm. Attack angle: -7.2 degrees. Descent angle: 49.07 degrees.'}\n",
      "Score: 0.6997 | Payload: {'text': 'On 2025-01-07 15:47:40, the golfer hit a shot 215.3 yards with a carry of 186.4 yards using a Driver (Top Golf - Driver (+1, N)). The shot was classified as Push Slice. The known contributing factors to this result were: Ball speed: 122.63 mph. Club speed: 86.84 mph. Spin rate: 3650 rpm. Attack angle: 2.52 degrees. Descent angle: 23.23 degrees.'}\n",
      "Score: 0.6994 | Payload: {'text': 'On 2025-02-04 12:47:30, the golfer hit a shot 166.15 yards with a carry of 124.93 yards using a Driver (TopGolf - Driver (+1; N; 2.75T)). The shot was classified as Push Slice. The known contributing factors to this result were: Ball speed: 114.33 mph. Club speed: 83.57 mph. Spin rate: 1154 rpm. Attack angle: -0.86 degrees. Descent angle: 13.89 degrees.'}\n"
     ]
    }
   ],
   "source": [
    "# Retrieve top 5 most similar entries\n",
    "from qdrant_client import QdrantClient\n",
    "\n",
    "client = QdrantClient(\n",
    "    url=\"https://6f592f43-f667-4234-ad3a-4f15ed5882ef.us-west-2-0.aws.cloud.qdrant.io:6333\",\n",
    "    api_key=qdrant_api_key\n",
    ")\n",
    "\n",
    "# collection_name = descriptive_collection_name\n",
    "\n",
    "search_result = client.query_points(\n",
    "    collection_name=descriptive_collection_name,\n",
    "    query=query_vector,  # Pass the vector directly\n",
    "    limit=20,\n",
    "    with_payload=True\n",
    "    )\n",
    "    \n",
    "# Access the points from the QueryResponse\n",
    "for point in search_result.points:\n",
    "    print(f\"Score: {point.score:.4f} | Payload: {point.payload}\")\n"
   ]
  }
 ],
 "metadata": {
  "kernelspec": {
   "display_name": ".venv",
   "language": "python",
   "name": "python3"
  },
  "language_info": {
   "codemirror_mode": {
    "name": "ipython",
    "version": 3
   },
   "file_extension": ".py",
   "mimetype": "text/x-python",
   "name": "python",
   "nbconvert_exporter": "python",
   "pygments_lexer": "ipython3",
   "version": "3.12.9"
  }
 },
 "nbformat": 4,
 "nbformat_minor": 5
}
